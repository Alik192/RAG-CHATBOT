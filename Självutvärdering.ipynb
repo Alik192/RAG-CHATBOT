{
 "cells": [
  {
   "cell_type": "markdown",
   "id": "07b33157",
   "metadata": {},
   "source": [
    "### 1. Vad har varit roligast i kunskapskontrollen?\n",
    "Det roligaste har varit att se hur min chatbot faktiskt fungerar i praktiken. Det kändes väldigt givande att få testa den mot olika scenarier och se hur den svarade på användarens frågor"
   ]
  },
  {
   "cell_type": "markdown",
   "id": "32eb818e",
   "metadata": {},
   "source": [
    "### 2. Vilket betyg anser du att du ska ha och varför?\n",
    "Jag anser att jag förtjänar betyget VG, eftersom jag har arbetat aktivt under hela projektet och lagt ner mycket tid på att förstå hur en chatbot fungerar ,och nu jag förstår både tekniken bakom och hur man anpassar innehållet till användaren."
   ]
  },
  {
   "cell_type": "markdown",
   "id": "f777c7aa",
   "metadata": {},
   "source": [
    "### 3. Vad har varit mest utmanande i arbetet och hur har du hanterat det?\n",
    "Det mest utmanande i arbetet var att få embedding att fungera korrekt tillsammans med ChromaDB. I början fungerade själva embedding processen, men resultaten sparades inte i Chroma som förväntat. För att lösa det bytte jag till GeminiEmbedding, vilket gjorde att lagringen i Chroma fungerade som den skulle.\n",
    "\n",
    "En annan utmaning var att hitta rätt balans i hur jag chunkade texterna och hur jag utformade prompten, så att chatboten kunde ge så relevanta och hjälpsamma svar som möjligt. Det krävde flera tester och justeringar för att få det rätt.\n",
    "\n",
    "Till sist stötte jag på problem när jag skulle köra appen i Streamlit  där uppstod ett kompatibilitetsproblem med ChromaDB och SQLite. För att lösa det använde  en workaround där jag säkerställde att rätt version av SQLite användes. Genom att lösa dessa tekniska hinder lärde jag mig mycket om hur man felsöker och anpassar kod i verkliga applikationer."
   ]
  },
  {
   "cell_type": "markdown",
   "id": "f42749ca",
   "metadata": {},
   "source": []
  }
 ],
 "metadata": {
  "language_info": {
   "name": "python"
  }
 },
 "nbformat": 4,
 "nbformat_minor": 5
}
