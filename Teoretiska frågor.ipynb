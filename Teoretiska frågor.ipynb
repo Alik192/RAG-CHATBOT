{
 "cells": [
  {
   "cell_type": "markdown",
   "id": "6ed34f13",
   "metadata": {},
   "source": [
    "### 1. Hur är AI, Maskininlärning och Deep Learning relaterat?\n",
    "AI  är det breda området som handlar om att få maskiner att agera intelligent.\n",
    "\n",
    "Maskininlärning är en delmängd av AI där system lär sig från data istället för att följa hårdkodade regler.\n",
    "\n",
    "Deep Learning är en delmängd av maskininlärning som använder djupa neurala nätverk för att lösa komplexa problem."
   ]
  },
  {
   "cell_type": "markdown",
   "id": "62e92deb",
   "metadata": {},
   "source": [
    "### 2. Hur är Tensorflow och Keras relaterat?\n",
    "Keras är TensorFlows officiella högnivå-API för att bygga och träna deep learning-modeller. Sedan TensorFlow 2 är Keras helt integrerat som tf.keras. När du installerar TensorFlow följer Keras automatiskt med, och tf.keras kan inte köras utan TensorFlow."
   ]
  },
  {
   "cell_type": "markdown",
   "id": "f6840256",
   "metadata": {},
   "source": [
    "### 3. Vad är en parameter? Vad är en hyperparameter?\n",
    "Parameter är en del av modellen (t.ex. vikter i ett neuralt nätverk) som inlärningsalgoritmen justerar för att passa träningsdata.\n",
    "\n",
    "Hyperparameter är en inställning som styr hur inlärningsalgoritmen fungerar (t.ex. inlärningshastighet eller antal lager). Den sätts innan träning och ändras inte under träningen."
   ]
  },
  {
   "cell_type": "markdown",
   "id": "7b8a710c",
   "metadata": {},
   "source": [
    "### 4. När man skall göra modellval och modellutvärdering kan man använda tränings-,validerings- och testdataset. Förklara hur de olika delarna kan användas.\n",
    "Träningsdatasetet används för att träna modellen. Valideringsdatasetet används för att utvärdera modellen och finjustera hyperparametrar. Testdatasetet används för att utvärdera den slutliga modellens prestanda efter hyperparameterjustering. Ett train-dev-dataset kan användas för att upptäcka överanpassning när träningsdata skiljer sig från validerings- och testdata."
   ]
  },
  {
   "cell_type": "markdown",
   "id": "6835f782",
   "metadata": {},
   "source": [
    "### 5. Förklara vad nedanstående kod gör:"
   ]
  },
  {
   "cell_type": "code",
   "execution_count": null,
   "id": "618bf2cb",
   "metadata": {},
   "outputs": [],
   "source": [
    "n_cols = x_train.shape[1] #Hämtar antalet features (kolumner) i träningsdata för att ange inputdimensionen i modellen.\n",
    "nn_model = Sequential() #Skapar en sekventiell modell\n",
    "nn_model.add(Dense(100, activation='relu', input_shape=(n_cols, ))) #Lägger till ett Dense-lager med 100 neuroner och ReLU-aktivering\n",
    "nn_model.add(Dropout(rate=0.2)) #Lägger till ett Dropout-lager för att minska överanpassning\n",
    "nn_model.add(Dense(50, activation='relu')) #Lägger till ytterligare ett Dense-lager med 50 neuroner och ReLU-aktivering\n",
    "nn_model.add(Dense(1, activation='sigmoid')) #Lägger till ett Dense-lager med 1 neuron och sigmoid-aktivering för binär klassificering\n",
    "nn_model.compile( \n",
    "optimizer='adam', #Använder Adam-optimerare\n",
    "loss='binary_crossentropy', #Använder binär korsentropi som förlustfunktion\n",
    "metrics=['accuracy' ]) #Använder noggrannhet som utvärderingsmetrik\n",
    "early_stopping_monitor = EarlyStopping(patience=5) #Skapar en EarlyStopping-monitor som stoppar träningen om valideringsförlusten inte förbättras på 5 epoker\n",
    "nn_model.fit(       #Tränar modellen\n",
    "x_train,    \n",
    "y_train,    \n",
    "validation_split=0.2,   #Använder 20% av träningsdata som valideringsdata\n",
    "epochs=100, #Maximalt antal epoker för träning\n",
    "callbacks=[early_stopping_monitor]) #Använder EarlyStopping-monitor som callback\n"
   ]
  },
  {
   "cell_type": "markdown",
   "id": "1c48e668",
   "metadata": {},
   "source": [
    "### 6. Vad är syftet med att regularisera en modell?\n",
    "Ett bra sätt att minska överanpassning är att regularisera modellen (d.v.s. att begränsa den): ju färre frihetsgrader den har, desto svårare blir det för modellen att överanpassa sig till datan."
   ]
  },
  {
   "cell_type": "markdown",
   "id": "e05a9b19",
   "metadata": {},
   "source": [
    "### 7. ”Dropout” är en regulariseringsteknik, vad är det för något?\n",
    "Dropout är en populär regulariseringsteknik för djupa neurala nätverk. Under träningen har varje neuron förutom utgångsneuroner, en sannolikhet p att tillfälligt Dropout, vilket innebär att den ignoreras under just det träningssteget. Efter träningen är dropout inaktivt och alla neuroner används"
   ]
  },
  {
   "cell_type": "markdown",
   "id": "2ce6b2ee",
   "metadata": {},
   "source": [
    "### 8. ”Early stopping” är en regulariseringsteknik, vad är det för något?\n",
    "Early stopping är en regulariseringsteknik för iterativa inlärningsalgoritmer som gradient descent, där träningen stoppas så snart valideringsfelet når ett minimum."
   ]
  },
  {
   "cell_type": "markdown",
   "id": "a4e78296",
   "metadata": {},
   "source": [
    "### 9. Din kollega frågar dig vilken typ av neuralt nätverk som är populärt för bildanalys,vad svarar du?\n",
    "Konvolutionella neurala nätverk (CNN) är den vanligaste typen av neuralt nätverk för bildanalys, eftersom de är särskilt bra på att känna igen mönster och strukturer i bilder."
   ]
  },
  {
   "cell_type": "markdown",
   "id": "5ee482de",
   "metadata": {},
   "source": [
    "### 10. Förklara översiktligt hur ett ”Convolutional Neural Network” fungerar.\n",
    "Ett konvolutionellt neuralt nätverk (CNN) fungerar genom att applicera små filter på indata (till exempel bilder) för att automatiskt upptäcka viktiga egenskaper som kanter och former. Dessa filter skapar feature maps som visar var mönster finns. Poolinglager minskar sedan storleken på dessa kartor för att förenkla datan och göra nätverket mer robust. Flera konvolutions- och poolinglager bygger upp allt mer komplexa representationer. Slutligen använder fullt anslutna lager dessa funktioner för att göra prediktioner"
   ]
  },
  {
   "cell_type": "markdown",
   "id": "faec4dd9",
   "metadata": {},
   "source": [
    "### 11. Vad gör nedanstående kod?\n",
    "model.save(\"model_file.keras\")\n",
    "my_model = load_model(\"model_file.keras\")\n",
    "\n",
    "Koden sparar en komplett modell till disk och laddar sedan in den igen."
   ]
  },
  {
   "cell_type": "markdown",
   "id": "3cebbe56",
   "metadata": {},
   "source": [
    "### 12. Deep Learning modeller kan ta lång tid att träna, då kan GPU via t.ex. Google Colab skynda på träningen avsevärt. Skriv mycket kortfattat vad CPU och GPU är.\n",
    "CPU (Central Processing Unit) är datorns huvudsakliga processor som hanterar allmänna beräkningar. GPU (Graphics Processing Unit) är en processor specialiserad på parallellberäkningar, vilket gör den mycket effektiv för att träna Deep Learning-modeller."
   ]
  }
 ],
 "metadata": {
  "language_info": {
   "name": "python"
  }
 },
 "nbformat": 4,
 "nbformat_minor": 5
}
